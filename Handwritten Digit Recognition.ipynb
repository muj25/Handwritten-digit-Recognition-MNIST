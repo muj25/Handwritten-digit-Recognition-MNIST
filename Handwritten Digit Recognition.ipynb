{
 "cells": [
  {
   "cell_type": "markdown",
   "id": "73fdbd14-c708-46c1-9382-c552de53928c",
   "metadata": {},
   "source": [
    "# Using Convolutional Neural Network (CNN)"
   ]
  },
  {
   "cell_type": "markdown",
   "id": "5776bf31-80a1-4702-aa8f-b346a59b18c7",
   "metadata": {},
   "source": [
    "### Import the Required Libraries"
   ]
  },
  {
   "cell_type": "code",
   "execution_count": 1,
   "id": "ad2b1e8f-0b5b-4828-b7d5-8d29c22a437b",
   "metadata": {},
   "outputs": [],
   "source": [
    "import numpy as np\n",
    "import matplotlib.pyplot as plt\n",
    "import cv2\n",
    "import tensorflow as tf\n",
    "from tensorflow.keras import layers, models\n",
    "from tensorflow.keras.utils import to_categorical\n",
    "from tensorflow.keras.callbacks import EarlyStopping, ModelCheckpoint\n",
    "from tensorflow.keras.preprocessing.image import ImageDataGenerator\n",
    "from sklearn.model_selection import train_test_split\n",
    "from sklearn.metrics import confusion_matrix, ConfusionMatrixDisplay, r2_score\n",
    "from sklearn.ensemble import RandomForestClassifier\n",
    "from sklearn.preprocessing import StandardScaler\n",
    "from PIL import Image as PILImage"
   ]
  },
  {
   "cell_type": "markdown",
   "id": "4b695a82-b21d-49d3-ac32-03dfe90746a2",
   "metadata": {},
   "source": [
    "### Loading the MNIST dataset for model"
   ]
  },
  {
   "cell_type": "code",
   "execution_count": 2,
   "id": "84abbc42-ef54-4e54-a79c-429ea841d63c",
   "metadata": {},
   "outputs": [],
   "source": [
    "# Load data\n",
    "(x_train, y_train), (x_test, y_test) = tf.keras.datasets.mnist.load_data()"
   ]
  },
  {
   "cell_type": "markdown",
   "id": "5b9d15ad-5938-4e40-bc0d-e55f2ff97db0",
   "metadata": {},
   "source": [
    "### Preprocessing the dataset"
   ]
  },
  {
   "cell_type": "code",
   "execution_count": 3,
   "id": "d70c86fd-3f77-4586-a91a-0ff9ca0e9e79",
   "metadata": {},
   "outputs": [],
   "source": [
    "x_train = x_train.reshape(-1, 28, 28, 1).astype('float32') / 255\n",
    "x_test = x_test.reshape(-1, 28, 28, 1).astype('float32') / 255\n",
    "y_train = to_categorical(y_train)\n",
    "y_test = to_categorical(y_test)"
   ]
  },
  {
   "cell_type": "markdown",
   "id": "20ec993c-6147-4944-9829-7e8e0432811b",
   "metadata": {},
   "source": [
    "### Splitting the traning data\n",
    "splitting the traning dataset into traning and validation set"
   ]
  },
  {
   "cell_type": "code",
   "execution_count": 4,
   "id": "4884e5cf-7f15-4d5b-95aa-1a81e0444698",
   "metadata": {},
   "outputs": [],
   "source": [
    "x_train, x_val, y_train, y_val = train_test_split(x_train, y_train, test_size=0.3, random_state=42)"
   ]
  },
  {
   "cell_type": "markdown",
   "id": "478893c1-b8d8-415f-81da-7acf09251cd6",
   "metadata": {},
   "source": [
    "### Defining my CNN model"
   ]
  },
  {
   "cell_type": "code",
   "execution_count": 5,
   "id": "b7439688-239c-4fe5-9ec5-d74cf7eac6f3",
   "metadata": {},
   "outputs": [
    {
     "name": "stderr",
     "output_type": "stream",
     "text": [
      "C:\\Users\\umerj\\AppData\\Local\\Programs\\Python\\Python311\\Lib\\site-packages\\keras\\src\\layers\\convolutional\\base_conv.py:107: UserWarning: Do not pass an `input_shape`/`input_dim` argument to a layer. When using Sequential models, prefer using an `Input(shape)` object as the first layer in the model instead.\n",
      "  super().__init__(activity_regularizer=activity_regularizer, **kwargs)\n"
     ]
    }
   ],
   "source": [
    "# Define and compile the CNN model\n",
    "cnn_model = models.Sequential([\n",
    "    layers.Conv2D(32, (3, 3), activation='relu', input_shape=(28, 28, 1)),\n",
    "    layers.MaxPooling2D((2, 2)),\n",
    "    layers.Conv2D(64, (3, 3), activation='relu'),\n",
    "    layers.MaxPooling2D((2, 2)),\n",
    "    layers.Flatten(),\n",
    "    layers.Dropout(0.25),\n",
    "    layers.Dense(10, activation='softmax')\n",
    "])"
   ]
  },
  {
   "cell_type": "markdown",
   "id": "a4720485-b15e-42f6-97a2-9f8c074e5b1d",
   "metadata": {},
   "source": [
    "### Compiling the CNN model"
   ]
  },
  {
   "cell_type": "code",
   "execution_count": 6,
   "id": "74ac56f3-27dc-4d75-8642-691d6c915a55",
   "metadata": {},
   "outputs": [],
   "source": [
    "cnn_model.compile(optimizer='adam', loss='categorical_crossentropy', metrics=['accuracy'])"
   ]
  },
  {
   "cell_type": "markdown",
   "id": "66d7be54-b916-4199-87f9-8ad433cb1a19",
   "metadata": {},
   "source": [
    "### Model Training Callbacks"
   ]
  },
  {
   "cell_type": "code",
   "execution_count": 7,
   "id": "7bbc212a-5850-476c-83cf-3b5ba9559629",
   "metadata": {},
   "outputs": [],
   "source": [
    "# Define callbacks\n",
    "es = EarlyStopping(monitor='val_accuracy', min_delta=0.01, patience=5, verbose=1, restore_best_weights=True)\n",
    "mc = ModelCheckpoint('cnn_model_best.keras', monitor='val_accuracy', verbose=1, save_best_only=True)\n",
    "cb = [es, mc]"
   ]
  },
  {
   "cell_type": "markdown",
   "id": "bece47d9-f65d-46e9-ab7d-b5d6c15f1e7e",
   "metadata": {},
   "source": [
    "### Data Generators for Augmentation and Validation"
   ]
  },
  {
   "cell_type": "code",
   "execution_count": 8,
   "id": "3aec0841-748a-4004-9ddb-11868b7ff1f1",
   "metadata": {},
   "outputs": [],
   "source": [
    "# Create data generators\n",
    "train_datagen = ImageDataGenerator(\n",
    "    rotation_range=10,\n",
    "    width_shift_range=0.1,\n",
    "    height_shift_range=0.1,\n",
    "    zoom_range=0.1,\n",
    "    horizontal_flip=False,\n",
    "    vertical_flip=False\n",
    ")\n",
    "val_datagen = ImageDataGenerator()\n"
   ]
  },
  {
   "cell_type": "markdown",
   "id": "d20bb078-5b3c-436b-a83c-a511f79e2096",
   "metadata": {},
   "source": [
    "### Data Generators for Training and Validation"
   ]
  },
  {
   "cell_type": "code",
   "execution_count": 9,
   "id": "24f13aca-ffc8-4d4c-8981-ff529ca75857",
   "metadata": {},
   "outputs": [],
   "source": [
    "# Flow data from arrays\n",
    "train_generator = train_datagen.flow(x_train, y_train, batch_size=32)\n",
    "val_generator = val_datagen.flow(x_val, y_val, batch_size=32)"
   ]
  },
  {
   "cell_type": "markdown",
   "id": "04da4a80-4363-4271-a5d8-73baea5869c6",
   "metadata": {},
   "source": [
    "### Training CNN Model with Data Augmentation"
   ]
  },
  {
   "cell_type": "code",
   "execution_count": null,
   "id": "302ea886-f3e2-44dc-891c-3b8295db9fed",
   "metadata": {},
   "outputs": [
    {
     "name": "stdout",
     "output_type": "stream",
     "text": [
      "Epoch 1/10\n",
      "\u001b[1m   3/1313\u001b[0m \u001b[37m━━━━━━━━━━━━━━━━━━━━\u001b[0m \u001b[1m36s\u001b[0m 28ms/step - accuracy: 0.0868 - loss: 2.3006"
     ]
    },
    {
     "name": "stderr",
     "output_type": "stream",
     "text": [
      "C:\\Users\\umerj\\AppData\\Local\\Programs\\Python\\Python311\\Lib\\site-packages\\keras\\src\\trainers\\data_adapters\\py_dataset_adapter.py:121: UserWarning: Your `PyDataset` class should call `super().__init__(**kwargs)` in its constructor. `**kwargs` can include `workers`, `use_multiprocessing`, `max_queue_size`. Do not pass these arguments to `fit()`, as they will be ignored.\n",
      "  self._warn_if_super_not_called()\n"
     ]
    },
    {
     "name": "stdout",
     "output_type": "stream",
     "text": [
      "\u001b[1m1313/1313\u001b[0m \u001b[32m━━━━━━━━━━━━━━━━━━━━\u001b[0m\u001b[37m\u001b[0m \u001b[1m0s\u001b[0m 33ms/step - accuracy: 0.7511 - loss: 0.7747\n",
      "Epoch 1: val_accuracy improved from -inf to 0.97206, saving model to cnn_model_best.keras\n",
      "\u001b[1m1313/1313\u001b[0m \u001b[32m━━━━━━━━━━━━━━━━━━━━\u001b[0m\u001b[37m\u001b[0m \u001b[1m51s\u001b[0m 37ms/step - accuracy: 0.7512 - loss: 0.7745 - val_accuracy: 0.9721 - val_loss: 0.0945\n",
      "Epoch 2/10\n",
      "\u001b[1m1313/1313\u001b[0m \u001b[32m━━━━━━━━━━━━━━━━━━━━\u001b[0m\u001b[37m\u001b[0m \u001b[1m0s\u001b[0m 30ms/step - accuracy: 0.9360 - loss: 0.2046\n",
      "Epoch 2: val_accuracy improved from 0.97206 to 0.98061, saving model to cnn_model_best.keras\n",
      "\u001b[1m1313/1313\u001b[0m \u001b[32m━━━━━━━━━━━━━━━━━━━━\u001b[0m\u001b[37m\u001b[0m \u001b[1m43s\u001b[0m 32ms/step - accuracy: 0.9360 - loss: 0.2046 - val_accuracy: 0.9806 - val_loss: 0.0642\n",
      "Epoch 3/10\n",
      "\u001b[1m1311/1313\u001b[0m \u001b[32m━━━━━━━━━━━━━━━━━━━\u001b[0m\u001b[37m━\u001b[0m \u001b[1m0s\u001b[0m 26ms/step - accuracy: 0.9530 - loss: 0.1546\n",
      "Epoch 3: val_accuracy improved from 0.98061 to 0.98167, saving model to cnn_model_best.keras\n",
      "\u001b[1m1313/1313\u001b[0m \u001b[32m━━━━━━━━━━━━━━━━━━━━\u001b[0m\u001b[37m\u001b[0m \u001b[1m38s\u001b[0m 29ms/step - accuracy: 0.9530 - loss: 0.1546 - val_accuracy: 0.9817 - val_loss: 0.0592\n",
      "Epoch 4/10\n",
      "\u001b[1m1313/1313\u001b[0m \u001b[32m━━━━━━━━━━━━━━━━━━━━\u001b[0m\u001b[37m\u001b[0m \u001b[1m0s\u001b[0m 32ms/step - accuracy: 0.9631 - loss: 0.1223\n",
      "Epoch 4: val_accuracy improved from 0.98167 to 0.98567, saving model to cnn_model_best.keras\n",
      "\u001b[1m1313/1313\u001b[0m \u001b[32m━━━━━━━━━━━━━━━━━━━━\u001b[0m\u001b[37m\u001b[0m \u001b[1m46s\u001b[0m 35ms/step - accuracy: 0.9631 - loss: 0.1223 - val_accuracy: 0.9857 - val_loss: 0.0491\n",
      "Epoch 5/10\n",
      "\u001b[1m1311/1313\u001b[0m \u001b[32m━━━━━━━━━━━━━━━━━━━\u001b[0m\u001b[37m━\u001b[0m \u001b[1m0s\u001b[0m 32ms/step - accuracy: 0.9685 - loss: 0.1001\n",
      "Epoch 5: val_accuracy improved from 0.98567 to 0.98744, saving model to cnn_model_best.keras\n",
      "\u001b[1m1313/1313\u001b[0m \u001b[32m━━━━━━━━━━━━━━━━━━━━\u001b[0m\u001b[37m\u001b[0m \u001b[1m46s\u001b[0m 35ms/step - accuracy: 0.9685 - loss: 0.1001 - val_accuracy: 0.9874 - val_loss: 0.0408\n",
      "Epoch 6/10\n",
      "\u001b[1m1313/1313\u001b[0m \u001b[32m━━━━━━━━━━━━━━━━━━━━\u001b[0m\u001b[37m\u001b[0m \u001b[1m0s\u001b[0m 31ms/step - accuracy: 0.9716 - loss: 0.0909\n",
      "Epoch 6: val_accuracy did not improve from 0.98744\n",
      "\u001b[1m1313/1313\u001b[0m \u001b[32m━━━━━━━━━━━━━━━━━━━━\u001b[0m\u001b[37m\u001b[0m \u001b[1m46s\u001b[0m 35ms/step - accuracy: 0.9716 - loss: 0.0909 - val_accuracy: 0.9874 - val_loss: 0.0403\n",
      "Epoch 7/10\n",
      "\u001b[1m 188/1313\u001b[0m \u001b[32m━━\u001b[0m\u001b[37m━━━━━━━━━━━━━━━━━━\u001b[0m \u001b[1m36s\u001b[0m 32ms/step - accuracy: 0.9797 - loss: 0.0664"
     ]
    }
   ],
   "source": [
    "# Train the CNN model with data augmentation\n",
    "history_cnn = cnn_model.fit(\n",
    "    train_generator,\n",
    "    validation_data=val_generator,\n",
    "    epochs=10,\n",
    "    callbacks=cb,\n",
    "    verbose=1\n",
    ")\n"
   ]
  },
  {
   "cell_type": "markdown",
   "id": "3ec288a3-3d14-46f7-91a8-b73e0bed17c7",
   "metadata": {},
   "source": [
    "### Evaluating CNN model"
   ]
  },
  {
   "cell_type": "code",
   "execution_count": null,
   "id": "ce7d6d65-b8ef-4756-9625-1d25fd187392",
   "metadata": {},
   "outputs": [],
   "source": [
    "# Evaluate the CNN model\n",
    "cnn_model = models.load_model('cnn_model_best.keras')\n",
    "cnn_test_loss, cnn_test_acc = cnn_model.evaluate(x_test, y_test)\n",
    "print('CNN Test accuracy:', cnn_test_acc)"
   ]
  },
  {
   "cell_type": "markdown",
   "id": "7affc373-912d-4975-b577-3450f5601090",
   "metadata": {},
   "source": [
    "### Making Predictions on test data"
   ]
  },
  {
   "cell_type": "code",
   "execution_count": null,
   "id": "9beaaeab-c49b-4606-9f50-c76f0ed71562",
   "metadata": {},
   "outputs": [],
   "source": [
    "# Use trained CNN model to predict on test data\n",
    "cnn_predictions = cnn_model.predict(x_test)\n",
    "cnn_pred_labels = np.argmax(cnn_predictions, axis=1)\n",
    "y_test_labels = np.argmax(y_test, axis=1)"
   ]
  },
  {
   "cell_type": "markdown",
   "id": "169272ab-3c08-4377-87fd-d69d868754c0",
   "metadata": {},
   "source": [
    "### Counting occurance of digits in dataset"
   ]
  },
  {
   "cell_type": "code",
   "execution_count": null,
   "id": "ac9edb85-76b6-4f66-9744-96a42cb5a653",
   "metadata": {},
   "outputs": [],
   "source": [
    "# Count occurrences of each digit in the dataset\n",
    "unique, counts = np.unique(y_test_labels, return_counts=True)\n",
    "digit_counts = dict(zip(unique, counts))\n",
    "\n",
    "# Print digit counts\n",
    "print(\"Digit counts in test dataset:\")\n",
    "for digit, count in digit_counts.items():\n",
    "    print(f\"Digit {digit}: {count} occurrences\")\n",
    "\n",
    "# Draw bar graph for digit counts\n",
    "plt.figure(figsize=(10, 6))\n",
    "plt.bar(digit_counts.keys(), digit_counts.values(), color='skyblue')\n",
    "plt.xlabel('Digit')\n",
    "plt.ylabel('Occurrences')\n",
    "plt.title('Digit Counts in Test Dataset')\n",
    "plt.xticks(range(10))\n",
    "plt.grid(axis='y', linestyle='--', alpha=0.7)\n",
    "plt.show()"
   ]
  },
  {
   "cell_type": "markdown",
   "id": "1ec331da-e6ee-46f6-9c50-a63ab97ccabe",
   "metadata": {},
   "source": [
    "### Displaying model summary"
   ]
  },
  {
   "cell_type": "code",
   "execution_count": null,
   "id": "31722686-3ea2-4c68-b23c-18b9df304241",
   "metadata": {},
   "outputs": [],
   "source": [
    "# Model summary for CNN\n",
    "print(\"\\nCNN Model Summary:\")\n",
    "cnn_model.summary()\n"
   ]
  },
  {
   "cell_type": "markdown",
   "id": "ef0a3f8d-6723-4c77-8981-1d38453b3b55",
   "metadata": {},
   "source": [
    "### Plot CNN training & validation accuracy values\n"
   ]
  },
  {
   "cell_type": "code",
   "execution_count": null,
   "id": "ca360b55-509a-4e98-9bb9-9a051bc243c7",
   "metadata": {},
   "outputs": [],
   "source": [
    "plt.figure(figsize=(12, 6))\n",
    "plt.plot(history_cnn.history['accuracy'])\n",
    "plt.plot(history_cnn.history['val_accuracy'])\n",
    "plt.title('CNN Model Accuracy')\n",
    "plt.xlabel('Epoch')\n",
    "plt.ylabel('Accuracy')\n",
    "plt.legend(['Train', 'Validation'])\n",
    "plt.show()"
   ]
  },
  {
   "cell_type": "markdown",
   "id": "077655dc-b978-4db1-9092-0b8b1c3adc18",
   "metadata": {},
   "source": [
    "### Generate and plot CNN confusion matrix"
   ]
  },
  {
   "cell_type": "code",
   "execution_count": null,
   "id": "68baa8a2-4f68-4914-99a4-2454605b643f",
   "metadata": {},
   "outputs": [],
   "source": [
    "\n",
    "conf_matrix_cnn = confusion_matrix(y_test_labels, cnn_pred_labels)\n",
    "conf_matrix_cnn_display = ConfusionMatrixDisplay(conf_matrix_cnn, display_labels=range(10))\n",
    "conf_matrix_cnn_display.plot(cmap=plt.cm.Blues)\n",
    "plt.title('CNN Confusion Matrix')\n",
    "plt.show()"
   ]
  },
  {
   "cell_type": "markdown",
   "id": "983bad62-72f5-49d1-aa91-49e437fe2145",
   "metadata": {},
   "source": [
    "### R2 Score"
   ]
  },
  {
   "cell_type": "code",
   "execution_count": null,
   "id": "6cc8b4ba-cd69-406a-8800-e38037c09e65",
   "metadata": {},
   "outputs": [],
   "source": [
    "# Evaluate CNN model with R2 score\n",
    "cnn_r2 = r2_score(y_test_labels, cnn_pred_labels)\n",
    "print('CNN R2 Score:', cnn_r2)"
   ]
  },
  {
   "cell_type": "markdown",
   "id": "d73d3a08-778f-4479-bbdb-1a2a9e95734f",
   "metadata": {},
   "source": [
    "### Sample Predictions"
   ]
  },
  {
   "cell_type": "code",
   "execution_count": null,
   "id": "d3501ba3-96ca-4714-a872-6f2236fea58d",
   "metadata": {},
   "outputs": [],
   "source": [
    "\n",
    "plt.figure(figsize=(12, 12))\n",
    "for i in range(16):  # Display 16 samples\n",
    "    plt.subplot(4, 4, i + 1)\n",
    "    plt.imshow(x_test[i].reshape(28, 28), cmap='gray')\n",
    "    plt.title(f'Pred: {cnn_pred_labels[i]}\\nAct: {y_test_labels[i]}')\n",
    "    plt.axis('off')\n",
    "plt.tight_layout()\n",
    "plt.show()"
   ]
  },
  {
   "cell_type": "markdown",
   "id": "78306847-0f94-49ad-9193-a38685a25b33",
   "metadata": {},
   "source": [
    "# Random Forest"
   ]
  },
  {
   "cell_type": "markdown",
   "id": "9c29cad6-7a30-468f-9102-790f4770a78d",
   "metadata": {},
   "source": [
    "### Import libraries"
   ]
  },
  {
   "cell_type": "code",
   "execution_count": null,
   "id": "fdcbbbf3-2892-44d9-9900-34595b1562a0",
   "metadata": {},
   "outputs": [],
   "source": [
    "import numpy as np\n",
    "import matplotlib.pyplot as plt\n",
    "from sklearn.ensemble import RandomForestClassifier\n",
    "from sklearn.preprocessing import StandardScaler\n",
    "from sklearn.metrics import confusion_matrix, ConfusionMatrixDisplay, r2_score\n",
    "import joblib\n",
    "import random"
   ]
  },
  {
   "cell_type": "markdown",
   "id": "10c333dc-29e4-430d-8e8d-c18cd6835f26",
   "metadata": {},
   "source": [
    "### Prepare data for Random Forest"
   ]
  },
  {
   "cell_type": "code",
   "execution_count": null,
   "id": "aa607e6f-b689-48cf-be09-3bc350d2786a",
   "metadata": {},
   "outputs": [],
   "source": [
    "# Prepare data for Random Forest\n",
    "x_train_flat = x_train.reshape(-1, 28 * 28)\n",
    "x_test_flat = x_test.reshape(-1, 28 * 28)\n"
   ]
  },
  {
   "cell_type": "markdown",
   "id": "c8d50416-e11a-4a13-9ce4-2d5d4b540e41",
   "metadata": {},
   "source": [
    "### Datapreprocessing "
   ]
  },
  {
   "cell_type": "code",
   "execution_count": null,
   "id": "ddbf402d-3971-4f32-91b8-39f7ce52ff1e",
   "metadata": {},
   "outputs": [],
   "source": [
    "# Normalize pixel values\n",
    "scaler = StandardScaler()\n",
    "x_train_flat = scaler.fit_transform(x_train_flat)\n",
    "x_test_flat = scaler.transform(x_test_flat)"
   ]
  },
  {
   "cell_type": "markdown",
   "id": "a6c9d7d8-ed00-4f99-9dd7-75dc7c9a0c5c",
   "metadata": {},
   "source": [
    "### Traning Random Forest model"
   ]
  },
  {
   "cell_type": "code",
   "execution_count": null,
   "id": "7b6c3eef-d845-430b-af31-474a48443b2d",
   "metadata": {},
   "outputs": [],
   "source": [
    "# Train Random Forest classifier\n",
    "rf_model = RandomForestClassifier(n_estimators=100, random_state=42)\n",
    "rf_model.fit(x_train_flat, np.argmax(y_train, axis=1))"
   ]
  },
  {
   "cell_type": "markdown",
   "id": "ca3f2b8d-8d1b-48b4-94d9-d1f4fed05de1",
   "metadata": {},
   "source": [
    "### Making Predictions"
   ]
  },
  {
   "cell_type": "code",
   "execution_count": null,
   "id": "a82d591a-10e1-489c-bd87-83b5fdb1bb38",
   "metadata": {},
   "outputs": [],
   "source": [
    "# Predict with Random Forest\n",
    "rf_predictions = rf_model.predict(x_test_flat)\n",
    "rf_pred_labels = rf_predictions"
   ]
  },
  {
   "cell_type": "markdown",
   "id": "82a45189-2768-4e7d-baaf-9f13644a52b1",
   "metadata": {},
   "source": [
    "### Confusion Matrix"
   ]
  },
  {
   "cell_type": "code",
   "execution_count": null,
   "id": "f6c9f77b-ada6-44d6-9a52-efc74bd4a099",
   "metadata": {},
   "outputs": [],
   "source": [
    "# Generate and plot Random Forest confusion matrix\n",
    "conf_matrix_rf = confusion_matrix(np.argmax(y_test, axis=1), rf_pred_labels)\n",
    "conf_matrix_rf_display = ConfusionMatrixDisplay(conf_matrix_rf, display_labels=range(10))\n",
    "conf_matrix_rf_display.plot(cmap=plt.cm.Blues)\n",
    "plt.title('Random Forest Confusion Matrix')\n",
    "plt.show()"
   ]
  },
  {
   "cell_type": "markdown",
   "id": "46c8193e-5508-4c42-a392-dc9027f4175f",
   "metadata": {},
   "source": [
    "### Evaluating Model"
   ]
  },
  {
   "cell_type": "code",
   "execution_count": null,
   "id": "50d5b302-eaa8-4a19-be7a-b90ef06c83fc",
   "metadata": {},
   "outputs": [],
   "source": [
    "# Evaluate Random Forest model\n",
    "rf_accuracy = np.mean(rf_pred_labels == np.argmax(y_test, axis=1))\n",
    "print('Random Forest Test accuracy:', rf_accuracy)\n"
   ]
  },
  {
   "cell_type": "markdown",
   "id": "1d80d185-2585-4217-a1d5-6d3d9426568e",
   "metadata": {},
   "source": [
    "### R2 Score"
   ]
  },
  {
   "cell_type": "code",
   "execution_count": null,
   "id": "88e6ec4e-9f2b-4e92-a551-56e99a811485",
   "metadata": {},
   "outputs": [],
   "source": [
    "# Evaluate Random Forest model with R2 score\n",
    "rf_r2 = r2_score(np.argmax(y_test, axis=1), rf_pred_labels)\n",
    "print('Random Forest R2 Score:', rf_r2)\n"
   ]
  },
  {
   "cell_type": "markdown",
   "id": "f43157b9-c51e-4e6c-a2e5-36b9d8ae69a4",
   "metadata": {},
   "source": [
    "### Making Single Prediction"
   ]
  },
  {
   "cell_type": "code",
   "execution_count": null,
   "id": "cd248a2f-8fcb-4486-af4a-273c6c98a63b",
   "metadata": {},
   "outputs": [],
   "source": [
    "# Single prediction on a random image from test set\n",
    "random_idx = random.randint(0, len(x_test) - 1)\n",
    "random_image = x_test[random_idx].reshape(1, 28 * 28)  # Flatten for Random Forest\n",
    "\n",
    "# Predict with Random Forest\n",
    "rf_single_pred = rf_model.predict(random_image)\n",
    "rf_single_pred_label = rf_single_pred[0]\n",
    "\n",
    "print(f'Random Forest Single Prediction: {rf_single_pred_label}'). in this display image too"
   ]
  },
  {
   "cell_type": "markdown",
   "id": "484eefa0-254a-426f-a7a6-30b40588ba41",
   "metadata": {},
   "source": [
    "### Saving the Model"
   ]
  },
  {
   "cell_type": "code",
   "execution_count": null,
   "id": "f839640f-c517-42e5-946b-c2d9efa49757",
   "metadata": {},
   "outputs": [],
   "source": [
    "# Save the Random Forest model and scaler\n",
    "joblib.dump(rf_model, 'random_forest_model.pkl')\n",
    "joblib.dump(scaler, 'scaler.pkl')\n",
    "print(\"Random Forest model and scaler saved to 'random_forest_model.pkl' and 'scaler.pkl'\")"
   ]
  },
  {
   "cell_type": "code",
   "execution_count": null,
   "id": "fc20d8e5-2700-420e-bb00-2e37145bde21",
   "metadata": {},
   "outputs": [],
   "source": []
  }
 ],
 "metadata": {
  "kernelspec": {
   "display_name": "Python 3 (ipykernel)",
   "language": "python",
   "name": "python3"
  },
  "language_info": {
   "codemirror_mode": {
    "name": "ipython",
    "version": 3
   },
   "file_extension": ".py",
   "mimetype": "text/x-python",
   "name": "python",
   "nbconvert_exporter": "python",
   "pygments_lexer": "ipython3",
   "version": "3.11.0"
  }
 },
 "nbformat": 4,
 "nbformat_minor": 5
}
